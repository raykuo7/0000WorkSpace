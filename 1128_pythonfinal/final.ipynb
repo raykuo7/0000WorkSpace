{
 "cells": [
  {
   "cell_type": "markdown",
   "metadata": {},
   "source": [
    "**實作題 1：庫存管理系統**\n",
    "撰寫一個簡易的庫存管理系統，讓使用者可以輸入商品名稱與數量，並將它們\n",
    "儲存到串列中。程式應允許查詢庫存商品，顯示庫存數量，並提供新增或修改\n",
    "商品庫存的功能。"
   ]
  },
  {
   "cell_type": "code",
   "execution_count": 19,
   "metadata": {},
   "outputs": [
    {
     "name": "stdout",
     "output_type": "stream",
     "text": [
      "Function: 'q'uit, 'i'nput, 'b'rowse, 'd'elete, 'a'lter\n",
      "Index, Product,  Amount\n",
      "0      a         123\n",
      "1      sd        2143\n",
      "Function: 'q'uit, 'i'nput, 'b'rowse, 'd'elete, 'a'lter\n"
     ]
    }
   ],
   "source": [
    "\n",
    "def masys(db:list, tf:bool , fun:str = \"input\"):\n",
    "    \n",
    "    product:str = \"\"\n",
    "    count:int = 0\n",
    "\n",
    "    if fun == 'q':      # quit\n",
    "        tf = False\n",
    "        pass\n",
    "    elif fun == \"i\":    # input\n",
    "        p = input('input product name: ')\n",
    "        c = int(input('input amount of product: '))\n",
    "        db.append(p)\n",
    "        db.append(c)\n",
    "        pass\n",
    "    elif fun == \"b\":    # browes\n",
    "        index = 0\n",
    "        count = 0\n",
    "        print(\"Index, Product,  Amount\")\n",
    "        for i in db:\n",
    "            \n",
    "            if count % 2 == 0:\n",
    "                print(\"%-7d\" % index, end = \"\")\n",
    "                index += 1\n",
    "            if count % 2 ==0:\n",
    "                print('%-10s' % i, end=\"\")\n",
    "            else:    \n",
    "                print(i)\n",
    "            count += 1\n",
    "\n",
    "    elif fun == 'd':    # delete\n",
    "        index = int(input('input index of which you whant to delete: '))\n",
    "        db.pop(index * 2)\n",
    "        db.pop(index * 2)\n",
    "    elif fun == 'a':     # alter\n",
    "        index = int(input('input index of which you whant to alter: '))\n",
    "        db[index*2 + 1] = int(input('input a num'))\n",
    "    else:\n",
    "        print(\"Wrong function try again!\")\n",
    "    return db, tf\n",
    "\n",
    "\n",
    "if \"storage\" not in globals():\n",
    "        storage = []\n",
    "tf = True\n",
    "while tf:\n",
    "    print(\"Function: 'q'uit, 'i'nput, 'b'rowse, 'd'elete, 'a'lter\")\n",
    "    fun = input(\"input function\")\n",
    "    storage, tf = masys(storage, tf, fun)\n",
    "\n"
   ]
  },
  {
   "cell_type": "markdown",
   "metadata": {},
   "source": [
    "**實作題 2：銷售統計系統**\n",
    "撰寫一個程式，讓使用者輸入每日銷售額。程式應計算每日的銷售總額，並在\n",
    "月底結束時，顯示當月的銷售總額、平均每日銷售額以及最高銷售日。"
   ]
  },
  {
   "cell_type": "code",
   "execution_count": 6,
   "metadata": {},
   "outputs": [
    {
     "name": "stdout",
     "output_type": "stream",
     "text": [
      "銷售總額: 42486.0\n",
      "平均每日銷售額: 8497.200\n",
      "最高銷售日: 32414.0\n"
     ]
    }
   ],
   "source": [
    "def main():\n",
    "\n",
    "    tf = True\n",
    "    day = 0\n",
    "    max = 0\n",
    "    sum = 0\n",
    "    while tf:\n",
    "        a = input(\"$$ or 'q' to quit: \")\n",
    "        if a == 'q':\n",
    "            tf = False\n",
    "            break  \n",
    "        a = float(a)\n",
    "        day += 1\n",
    "        sum += a\n",
    "        if a > max:\n",
    "            max = a\n",
    "    print(\"銷售總額:\",sum)\n",
    "    print(\"平均每日銷售額:\", \"%-.3f\" % (sum/day))\n",
    "    print(\"最高銷售日:\", max)\n",
    "\n",
    "if __name__ == \"__main__\":\n",
    "    main()"
   ]
  },
  {
   "cell_type": "markdown",
   "metadata": {},
   "source": [
    "**實作題 3：進貨與銷貨管理**\n",
    "撰寫一個進銷貨管理系統，讓使用者輸入進貨和銷貨記錄。程式應計算總進貨\n",
    "量與總銷貨量，並顯示目前庫存數量。"
   ]
  },
  {
   "cell_type": "code",
   "execution_count": 21,
   "metadata": {},
   "outputs": [
    {
     "name": "stdout",
     "output_type": "stream",
     "text": [
      "總進貨量: 6449\n",
      "總銷貨量: 3930\n",
      "目前庫存數量: 2519\n"
     ]
    }
   ],
   "source": [
    "db = []\n",
    "\n",
    "def main():\n",
    "    inn = 0    \n",
    "    outt =0\n",
    "    tf = True\n",
    "    while tf:\n",
    "        a = input(\"in(q to quit): \")\n",
    "        if a == 'q':\n",
    "            tf = False\n",
    "            break\n",
    "        inn += int(a)\n",
    "        a = input(\"out(q to quit): \")\n",
    "        if a == 'q':\n",
    "            tf = False\n",
    "            break\n",
    "        outt += int(a)\n",
    "    \n",
    "    print('總進貨量:',inn)\n",
    "    print('總銷貨量:',outt)\n",
    "    print('目前庫存數量:', inn - outt)\n",
    "    \n",
    "if __name__ == \"__main__\":\n",
    "    main()\n"
   ]
  },
  {
   "cell_type": "markdown",
   "metadata": {},
   "source": [
    "**實作題 4：財務報表生成**\n",
    "撰寫一個財務報表生成程式，讓使用者輸入每月的收入和支出，並計算當月淨\n",
    "利。程式應能輸出每月的收入、支出和淨利報表。"
   ]
  },
  {
   "cell_type": "code",
   "execution_count": 25,
   "metadata": {},
   "outputs": [
    {
     "name": "stdout",
     "output_type": "stream",
     "text": [
      "月的收入: 1231\n",
      "支出: 123\n",
      "淨利報表: 1108\n"
     ]
    }
   ],
   "source": [
    "db = []\n",
    "\n",
    "def main():\n",
    "    inn = 0    \n",
    "    outt =0\n",
    "    a = input(\"income(q to quit): \")\n",
    "    # if a == 'q':\n",
    "    #     tf = False\n",
    "    #     break\n",
    "    inn += int(a)\n",
    "    a = input(\"expense(q to quit): \")\n",
    "    # if a == 'q':\n",
    "    #     tf = False\n",
    "    #     break\n",
    "    outt += int(a)\n",
    "    \n",
    "    print('月的收入:',inn)\n",
    "    print('支出:',outt)\n",
    "    print('淨利報表:', inn - outt)\n",
    "    \n",
    "if __name__ == \"__main__\":\n",
    "    main()"
   ]
  },
  {
   "cell_type": "markdown",
   "metadata": {},
   "source": [
    "**實作題 5：售價折扣計算系統**\n",
    "撰寫一個售價折扣計算程式，根據使用者輸入的商品原價與折扣比例計算最終\n",
    "售價。程式應允許使用者批次輸入多個商品，並計算所有商品的最終總價格。"
   ]
  },
  {
   "cell_type": "code",
   "execution_count": 29,
   "metadata": {},
   "outputs": [
    {
     "name": "stdout",
     "output_type": "stream",
     "text": [
      "input price: 1234.0\n",
      "input price: 2134.0\n",
      "input price: 5431.0\n",
      "input price: 542.0\n",
      "input price: 2345.0\n",
      "input price: 21234.0\n",
      "總價格: 16460.0\n"
     ]
    }
   ],
   "source": [
    "def main():\n",
    "    off = float(input(\"input discount(ex:0.3 for 30% off!): \"))\n",
    "    tot = 0\n",
    "    while True:\n",
    "        a = input(\"input price('s' to stop): \")\n",
    "        if a == 's':\n",
    "            break\n",
    "        tot += float(a)\n",
    "        print('input price:', float(a))\n",
    "    print('總價格:',tot * (1 - off))\n",
    "if __name__ == \"__main__\":\n",
    "    main()"
   ]
  },
  {
   "cell_type": "code",
   "execution_count": null,
   "metadata": {},
   "outputs": [],
   "source": []
  }
 ],
 "metadata": {
  "kernelspec": {
   "display_name": "tvdi",
   "language": "python",
   "name": "python3"
  },
  "language_info": {
   "codemirror_mode": {
    "name": "ipython",
    "version": 3
   },
   "file_extension": ".py",
   "mimetype": "text/x-python",
   "name": "python",
   "nbconvert_exporter": "python",
   "pygments_lexer": "ipython3",
   "version": "3.11.10"
  }
 },
 "nbformat": 4,
 "nbformat_minor": 2
}
