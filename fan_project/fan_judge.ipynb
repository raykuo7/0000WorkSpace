{
 "cells": [
  {
   "cell_type": "code",
   "execution_count": 1,
   "metadata": {},
   "outputs": [],
   "source": [
    "import math\n",
    "\n",
    "def calculate_angles(p1, p2, p3):\n",
    "    \"\"\"\n",
    "    計算由三個座標形成的三角形的三個角度。\n",
    "\n",
    "    參數：\n",
    "    p1, p2, p3: tuple，代表三個座標 (x, y)\n",
    "\n",
    "    返回：\n",
    "    tuple，三角形的三個角度 (角1, 角2, 角3)，單位為度。\n",
    "    \"\"\"\n",
    "    def distance(a, b):\n",
    "        # 計算兩點之間的距離\n",
    "        return math.sqrt((a[0] - b[0])**2 + (a[1] - b[1])**2)\n",
    "\n",
    "    # 計算三邊長\n",
    "    a = distance(p2, p3)  # 邊a對應角點p1\n",
    "    b = distance(p1, p3)  # 邊b對應角點p2\n",
    "    c = distance(p1, p2)  # 邊c對應角點p3\n",
    "\n",
    "    # 使用餘弦定理計算角度\n",
    "    angle1 = math.acos((b**2 + c**2 - a**2) / (2 * b * c))  # p1的角\n",
    "    angle2 = math.acos((a**2 + c**2 - b**2) / (2 * a * c))  # p2的角\n",
    "    angle3 = math.acos((a**2 + b**2 - c**2) / (2 * a * b))  # p3的角\n",
    "\n",
    "    # 將角度從弧度轉換為度\n",
    "    angle1 = math.degrees(angle1)\n",
    "    angle2 = math.degrees(angle2)\n",
    "    angle3 = math.degrees(angle3)\n",
    "\n",
    "    return angle1, angle2, angle3 ,a , b , c\n"
   ]
  },
  {
   "cell_type": "code",
   "execution_count": 2,
   "metadata": {},
   "outputs": [
    {
     "name": "stdout",
     "output_type": "stream",
     "text": [
      "(12.433847185185085, 153.72764502265716, 13.838507792157724, 700.3456289575884, 1439.7694259845914, 778.0)\n"
     ]
    }
   ],
   "source": [
    "p1 = (1807,1897)\n",
    "p2 = (1807,1119)\n",
    "p3 = (1497,491)\n",
    "print(calculate_angles(p1, p2, p3))"
   ]
  },
  {
   "cell_type": "code",
   "execution_count": 4,
   "metadata": {},
   "outputs": [
    {
     "name": "stdout",
     "output_type": "stream",
     "text": [
      "0\n"
     ]
    }
   ],
   "source": [
    "\n",
    "def ptg(p1,p2,p3):\n",
    "    angle1, angle2, angle3 ,len1 , len2 , len3 = calculate_angles(p1, p2, p3)\n",
    "\n",
    "    grade = 0\n",
    "    grade += (1 - (len3/len1 - 778.0/700.3456289575884)**2**.5) * 30\n",
    "    grade += (1 - (len3/len2 - 778.0/1439.7694259845914)**2**.5) * 30\n",
    "    grade += (1 - (1 - angle1/12.433847185185085)**2**.5) * 15\n",
    "    grade += (1 - (1 - angle2/153.72764502265716)**2**.5) * 15\n",
    "    grade += (1 - (1 - angle3/13.838507792157724)**2**.5) * 10\n",
    "\n",
    "    if  len2 < len1:\n",
    "        grade = 0\n",
    "\n",
    "    \n",
    "    return grade\n",
    "\n",
    "\n",
    "print(ptg(p2,p1,p3))\n"
   ]
  },
  {
   "cell_type": "markdown",
   "metadata": {},
   "source": [
    "# load model"
   ]
  },
  {
   "cell_type": "code",
   "execution_count": 27,
   "metadata": {},
   "outputs": [],
   "source": [
    "import torch.nn as nn\n",
    "import torch.nn.functional as F\n",
    "\n",
    "class CNNPointDetector(nn.Module):\n",
    "    def __init__(self):\n",
    "        super(CNNPointDetector, self).__init__()\n",
    "        self.conv1 = nn.Conv2d(1, 16, kernel_size=3, stride=1, padding=1)\n",
    "        self.conv2 = nn.Conv2d(16, 32, kernel_size=3, stride=1, padding=1)\n",
    "        self.conv3 = nn.Conv2d(32, 64, kernel_size=3, stride=1, padding=1)\n",
    "        self.fc1 = nn.Linear(64 * 8 * 8, 128)\n",
    "        self.fc2 = nn.Linear(128, 2)  # Output (x, y) coordinates\n",
    "        \n",
    "    def forward(self, x):\n",
    "        x = F.relu(F.max_pool2d(self.conv1(x), 2))\n",
    "        x = F.relu(F.max_pool2d(self.conv2(x), 2))\n",
    "        x = F.relu(F.max_pool2d(self.conv3(x), 2))\n",
    "        x = x.view(-1, 64 * 8 * 8)  # Flatten\n",
    "        x = F.relu(self.fc1(x))\n",
    "        x = self.fc2(x)\n",
    "        return x\n"
   ]
  },
  {
   "cell_type": "code",
   "execution_count": 28,
   "metadata": {},
   "outputs": [
    {
     "name": "stdout",
     "output_type": "stream",
     "text": [
      "Model_1 loaded and ready for inference.\n",
      "Model_2 loaded and ready for inference.\n",
      "Model_3 loaded and ready for inference.\n"
     ]
    },
    {
     "name": "stderr",
     "output_type": "stream",
     "text": [
      "C:\\Users\\raykuo7\\AppData\\Local\\Temp\\ipykernel_13876\\1465348596.py:5: FutureWarning: You are using `torch.load` with `weights_only=False` (the current default value), which uses the default pickle module implicitly. It is possible to construct malicious pickle data which will execute arbitrary code during unpickling (See https://github.com/pytorch/pytorch/blob/main/SECURITY.md#untrusted-models for more details). In a future release, the default value for `weights_only` will be flipped to `True`. This limits the functions that could be executed during unpickling. Arbitrary objects will no longer be allowed to be loaded via this mode unless they are explicitly allowlisted by the user via `torch.serialization.add_safe_globals`. We recommend you start setting `weights_only=True` for any use case where you don't have full control of the loaded file. Please open an issue on GitHub for any issues related to this experimental feature.\n",
      "  model_1.load_state_dict(torch.load(\"fan_corner1_detector_1127.pth\"))\n",
      "C:\\Users\\raykuo7\\AppData\\Local\\Temp\\ipykernel_13876\\1465348596.py:10: FutureWarning: You are using `torch.load` with `weights_only=False` (the current default value), which uses the default pickle module implicitly. It is possible to construct malicious pickle data which will execute arbitrary code during unpickling (See https://github.com/pytorch/pytorch/blob/main/SECURITY.md#untrusted-models for more details). In a future release, the default value for `weights_only` will be flipped to `True`. This limits the functions that could be executed during unpickling. Arbitrary objects will no longer be allowed to be loaded via this mode unless they are explicitly allowlisted by the user via `torch.serialization.add_safe_globals`. We recommend you start setting `weights_only=True` for any use case where you don't have full control of the loaded file. Please open an issue on GitHub for any issues related to this experimental feature.\n",
      "  model_2.load_state_dict(torch.load(\"fan_corner2_detector_1127.pth\"))\n",
      "C:\\Users\\raykuo7\\AppData\\Local\\Temp\\ipykernel_13876\\1465348596.py:15: FutureWarning: You are using `torch.load` with `weights_only=False` (the current default value), which uses the default pickle module implicitly. It is possible to construct malicious pickle data which will execute arbitrary code during unpickling (See https://github.com/pytorch/pytorch/blob/main/SECURITY.md#untrusted-models for more details). In a future release, the default value for `weights_only` will be flipped to `True`. This limits the functions that could be executed during unpickling. Arbitrary objects will no longer be allowed to be loaded via this mode unless they are explicitly allowlisted by the user via `torch.serialization.add_safe_globals`. We recommend you start setting `weights_only=True` for any use case where you don't have full control of the loaded file. Please open an issue on GitHub for any issues related to this experimental feature.\n",
      "  model_3.load_state_dict(torch.load(\"fan_corner3_detector_1127.pth\"))\n"
     ]
    }
   ],
   "source": [
    "import torch\n",
    "\n",
    "# 初始化模型\n",
    "model_1 = CNNPointDetector()\n",
    "model_1.load_state_dict(torch.load(\"fan_corner1_detector_1127.pth\"))\n",
    "model_1.eval()  # 切换到评估模式\n",
    "print(\"Model_1 loaded and ready for inference.\")\n",
    "\n",
    "model_2 = CNNPointDetector()\n",
    "model_2.load_state_dict(torch.load(\"fan_corner2_detector_1127.pth\"))\n",
    "model_2.eval()  # 切换到评估模式\n",
    "print(\"Model_2 loaded and ready for inference.\")\n",
    "\n",
    "model_3 = CNNPointDetector()\n",
    "model_3.load_state_dict(torch.load(\"fan_corner3_detector_1127.pth\"))\n",
    "model_3.eval()  # 切换到评估模式\n",
    "print(\"Model_3 loaded and ready for inference.\")"
   ]
  },
  {
   "cell_type": "code",
   "execution_count": null,
   "metadata": {},
   "outputs": [
    {
     "name": "stdout",
     "output_type": "stream",
     "text": [
      "tensor([[[[0., 0., 0.,  ..., 0., 0., 0.],\n",
      "          [0., 0., 0.,  ..., 0., 0., 0.],\n",
      "          [0., 0., 0.,  ..., 0., 0., 0.],\n",
      "          ...,\n",
      "          [0., 0., 0.,  ..., 0., 0., 0.],\n",
      "          [0., 0., 0.,  ..., 0., 0., 0.],\n",
      "          [0., 0., 0.,  ..., 0., 0., 0.]]]]) Grade:  0\n"
     ]
    },
    {
     "ename": "",
     "evalue": "",
     "output_type": "error",
     "traceback": [
      "\u001b[1;31mThe Kernel crashed while executing code in the current cell or a previous cell. \n",
      "\u001b[1;31mPlease review the code in the cell(s) to identify a possible cause of the failure. \n",
      "\u001b[1;31mClick <a href='https://aka.ms/vscodeJupyterKernelCrash'>here</a> for more info. \n",
      "\u001b[1;31mView Jupyter <a href='command:jupyter.viewOutput'>log</a> for further details."
     ]
    }
   ],
   "source": [
    "import sys\n",
    "import cv2\n",
    "import torch\n",
    "from torch.utils.data import Dataset, DataLoader\n",
    "import torchvision.transforms as transforms\n",
    "import glob\n",
    "import os\n",
    "import numpy as np\n",
    "\n",
    "# image_files = glob.glob(r'C:\\GitHub\\fantest_pic\\try1128\\*.png')\n",
    "\n",
    "# if not image_files:\n",
    "#     print(\"No images found. Please check the path and try again.\")\n",
    "#     sys.exit()\n",
    "\n",
    "class FanDatasetFromPath(Dataset):\n",
    "    def __init__(self, image_folder, img_size=64):\n",
    "        \"\"\"\n",
    "        Args:\n",
    "            image_folder (str): 路径到包含图片的文件夹\n",
    "            img_size (int): 调整图像大小的目标尺寸\n",
    "        \"\"\"\n",
    "        self.image_paths = [os.path.join(image_folder, f) for f in os.listdir(image_folder) if f.endswith(('.png', '.jpg', '.jpeg'))]\n",
    "        self.img_size = img_size\n",
    "\n",
    "    def __len__(self):\n",
    "        return len(self.image_paths)\n",
    "\n",
    "    def __getitem__(self, idx):\n",
    "        img_path = self.image_paths[idx]\n",
    "        # 读取图片并转为灰度图\n",
    "        image = cv2.imread(img_path, cv2.IMREAD_GRAYSCALE)\n",
    "        image = cv2.resize(image, (self.img_size, self.img_size)) / 255.0  # Resize and normalize to [0, 1]\n",
    "        image = image.reshape(1, self.img_size, self.img_size)  # Add channel dimension\n",
    "\n",
    "        # 标签设为零向量（根据需求调整）\n",
    "        label = np.zeros(2, dtype=np.float32)  # Placeholder for labels (e.g., [x, y] coordinates)\n",
    "\n",
    "        return torch.tensor(image, dtype=torch.float32), torch.tensor(label, dtype=torch.float32)\n",
    "\n",
    "# 使用图片路径加载数据集\n",
    "image_folder_path = r'C:\\GitHub\\fantest_pic\\try1128'  # 替换为你的图片文件夹路径\n",
    "dataset = FanDatasetFromPath(image_folder_path)\n",
    "\n",
    "with torch.no_grad():\n",
    "    for i in range(len(dataset)):\n",
    "            img, label = dataset[i]\n",
    "            img = img.unsqueeze(0)  # Add batch dimension\n",
    "\n",
    "\n",
    "            p1 = model_1(img)\n",
    "            p2 = model_2(img)\n",
    "            p3 = model_3(img)\n",
    "\n",
    "            p1 = (p1.numpy().flatten()[0] , p1.numpy().flatten()[1])\n",
    "            p2 = (p2.numpy().flatten()[0] , p2.numpy().flatten()[1])\n",
    "            p3 = (p3.numpy().flatten()[0] , p3.numpy().flatten()[1])\n",
    "    print(img , \"Grade: \", ptg(p1,p2,p3))\n",
    "    \n",
    "            \n",
    "# for image_path in image_files:\n",
    "    # image = cv2.imread(image_path)\n",
    "\n",
    "    \n",
    "\n",
    "\n",
    "\n",
    "    # image = cv2.cvtColor(image, cv2.COLOR_BGR2GRAY)\n",
    "\n",
    "    # transform = transforms.Compose([\n",
    "    # transforms.ToPILImage(),\n",
    "    # transforms.Resize((2047, 2047)),\n",
    "    # transforms.ToTensor(),\n",
    "    # transforms.Normalize(mean=[0.5], std=[0.5])  # 单通道归一化\n",
    "    # ])\n",
    "\n",
    "    # transform = transforms.Compose([\n",
    "    # transforms.ToPILImage(),\n",
    "    # transforms.Resize((2047, 2047)),  # 替换为你的模型输入尺寸\n",
    "    # transforms.ToTensor(),\n",
    "    # transforms.Normalize(mean=[0.5, 0.5, 0.5], std=[0.5, 0.5, 0.5])  # 如果训练时有不同的归一化设置，请替换\n",
    "    # ])\n",
    "\n",
    "    # input_tensor = transform(image)\n",
    "    # input_tensor = input_tensor.unsqueeze(0) # 增加 batch 维度\n",
    "\n",
    "                # with torch.no_grad():  # 不需要梯度计算\n"
   ]
  },
  {
   "cell_type": "code",
   "execution_count": null,
   "metadata": {},
   "outputs": [],
   "source": [
    "import os\n",
    "\n",
    "def add_prefix_to_files(folder_path, prefix=\"1_\"):\n",
    "    \"\"\"\n",
    "    將指定資料夾內所有檔案的名稱前加上指定的前綴。\n",
    "\n",
    "    參數：\n",
    "        folder_path (str): 資料夾的路徑。\n",
    "        prefix (str): 要添加到檔名前的字串，預設為 \"_1\"。\n",
    "    \"\"\"\n",
    "    try:\n",
    "        # 確認資料夾存在\n",
    "        if not os.path.exists(folder_path):\n",
    "            print(f\"資料夾不存在: {folder_path}\")\n",
    "            return\n",
    "\n",
    "        # 遍歷資料夾內的所有檔案\n",
    "        for filename in os.listdir(folder_path):\n",
    "            file_path = os.path.join(folder_path, filename)\n",
    "\n",
    "            # 確保只處理檔案，忽略資料夾\n",
    "            if os.path.isfile(file_path):\n",
    "                new_name = prefix + filename\n",
    "                new_path = os.path.join(folder_path, new_name)\n",
    "\n",
    "                # 重命名檔案\n",
    "                os.rename(file_path, new_path)\n",
    "                print(f\"重命名: {filename} -> {new_name}\")\n",
    "\n",
    "        print(\"檔案重命名完成！\")\n",
    "\n",
    "    except Exception as e:\n",
    "        print(f\"發生錯誤: {e}\")\n",
    "\n",
    "# 使用範例\n",
    "folder_path = \"C:/GitHub/fantest_pic/temp\"  # 替換成目標資料夾路徑\n",
    "add_prefix_to_files(folder_path)\n"
   ]
  }
 ],
 "metadata": {
  "kernelspec": {
   "display_name": "tvdi",
   "language": "python",
   "name": "python3"
  },
  "language_info": {
   "codemirror_mode": {
    "name": "ipython",
    "version": 3
   },
   "file_extension": ".py",
   "mimetype": "text/x-python",
   "name": "python",
   "nbconvert_exporter": "python",
   "pygments_lexer": "ipython3",
   "version": "3.11.10"
  }
 },
 "nbformat": 4,
 "nbformat_minor": 2
}
