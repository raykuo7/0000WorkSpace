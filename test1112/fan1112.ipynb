{
 "cells": [
  {
   "cell_type": "markdown",
   "metadata": {},
   "source": [
    "我想用python做一個程式:\n",
    "1. 批量讀入照片\n",
    "2.  依序顯示每張照片，並可以手動選取圖片上的點\n",
    "3. 記錄點座標並寫成 .csv檔\n",
    "4. .csv檔格式為 image_path, x, y"
   ]
  },
  {
   "cell_type": "code",
   "execution_count": null,
   "metadata": {},
   "outputs": [],
   "source": [
    "import cv2\n",
    "import pandas as pd\n",
    "import glob\n",
    "\n",
    "# Initialize an empty list to store the data\n",
    "data = []\n",
    "\n",
    "# Callback function to record points\n",
    "def select_point(event, x, y, flags, param):\n",
    "    if event == cv2.EVENT_LBUTTONDOWN:\n",
    "        # Append the image path and selected coordinates\n",
    "        data.append((param, x, y))\n",
    "        print(f\"Point selected at: x={x}, y={y}\")\n",
    "\n",
    "# Load images from a directory (replace 'your_image_folder_path' with your folder path)\n",
    "image_files = glob.glob('./*.jpg')  # Adjust file extension as needed\n",
    "\n",
    "# Process each image\n",
    "for img_path in image_files:\n",
    "    # Read and display the image\n",
    "    img = cv2.imread(img_path)\n",
    "    cv2.imshow(\"Image\", img)\n",
    "    cv2.setMouseCallback(\"Image\", select_point, img_path)\n",
    "    \n",
    "    print(\"Click on the image to select a point, press 'n' for next image.\")\n",
    "    key = cv2.waitKey(0)\n",
    "    if key == ord('n'):\n",
    "        continue\n",
    "    elif key == ord('q'):  # Optional: press 'q' to quit early\n",
    "        break\n",
    "\n",
    "cv2.destroyAllWindows()\n",
    "\n",
    "# Save the data to a CSV file\n",
    "df = pd.DataFrame(data, columns=[\"image_path\", \"x\", \"y\"])\n",
    "df.to_csv(\"selected_points.csv\", index=False)\n",
    "print(\"Data saved to selected_points.csv\")\n"
   ]
  }
 ],
 "metadata": {
  "language_info": {
   "name": "python"
  }
 },
 "nbformat": 4,
 "nbformat_minor": 2
}
