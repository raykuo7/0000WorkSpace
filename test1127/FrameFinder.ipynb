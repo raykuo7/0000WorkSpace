{
 "cells": [
  {
   "cell_type": "code",
   "execution_count": 3,
   "metadata": {},
   "outputs": [
    {
     "name": "stdout",
     "output_type": "stream",
     "text": [
      "檢測到的方形邊界點:\n",
      "方形 1: [[2794 2369]\n",
      " [2793 2369]\n",
      " [2792 2370]\n",
      " [2792 2371]]\n",
      "方形 2: [[1375 2252]\n",
      " [1374 2252]\n",
      " [1370 2256]\n",
      " [1371 2256]]\n",
      "方形 3: [[2015 1534]\n",
      " [2012 1537]\n",
      " [2013 1537]\n",
      " [2015 1535]]\n",
      "方形 4: [[1231  734]\n",
      " [1231  735]\n",
      " [1242  745]\n",
      " [1242  744]]\n",
      "方形 5: [[2694  609]\n",
      " [2694  610]\n",
      " [2695  611]\n",
      " [2696  611]]\n",
      "方形 6: [[2295  590]\n",
      " [2294  590]\n",
      " [2293  591]\n",
      " [2293  592]]\n"
     ]
    }
   ],
   "source": [
    "import cv2\n",
    "import numpy as np\n",
    "\n",
    "def detect_square_edges(image_path):\n",
    "    # 讀取圖片\n",
    "    image = cv2.imread(image_path)\n",
    "    original = image.copy()\n",
    "    gray = cv2.cvtColor(image, cv2.COLOR_BGR2GRAY)\n",
    "    \n",
    "    # 邊緣檢測\n",
    "    edges = cv2.Canny(gray, 50, 150)\n",
    "    \n",
    "    # 輪廓檢測\n",
    "    contours, _ = cv2.findContours(edges, cv2.RETR_EXTERNAL, cv2.CHAIN_APPROX_SIMPLE)\n",
    "    \n",
    "    square_contours = []\n",
    "    square_points = []\n",
    "\n",
    "    for contour in contours:\n",
    "        # 擬合多邊形\n",
    "        epsilon = 0.02 * cv2.arcLength(contour, True)  # 調整 epsilon 控制精度\n",
    "        approx = cv2.approxPolyDP(contour, epsilon, True)\n",
    "        \n",
    "        # 篩選四邊形\n",
    "        if len(approx) == 4 and cv2.isContourConvex(approx):\n",
    "            # 計算邊長比例，確保接近矩形\n",
    "            approx = approx.reshape(-1, 2)  # 轉為坐標點\n",
    "            rect = cv2.boundingRect(approx)\n",
    "            aspect_ratio = float(rect[2]) / rect[3]  # 寬/高比\n",
    "            \n",
    "            if 0.8 <= aspect_ratio <= 1.2:  # 接近正方形\n",
    "                square_contours.append(contour)\n",
    "                square_points.append(approx)\n",
    "    \n",
    "    # 繪製方形輪廓\n",
    "    for points in square_points:\n",
    "        cv2.polylines(original, [points], isClosed=True, color=(0, 255, 0), thickness=2)\n",
    "        for point in points:\n",
    "            cv2.circle(original, tuple(point), 5, (0, 0, 255), -1)\n",
    "\n",
    "    return original, square_points\n",
    "\n",
    "# 測試代碼\n",
    "image_path = r\"..\\..\\fanpic_1121\\1_360\\0.png\"  # 使用原始字串\n",
    "# 替換為你的圖片路徑\n",
    "output_image, squares = detect_square_edges(image_path)\n",
    "\n",
    "print(\"檢測到的方形邊界點:\")\n",
    "for i, square in enumerate(squares):\n",
    "    print(f\"方形 {i+1}: {square}\")\n",
    "\n",
    "cv2.imshow(\"Detected Squares\", output_image)\n",
    "cv2.waitKey(0)\n",
    "cv2.destroyAllWindows()\n"
   ]
  }
 ],
 "metadata": {
  "kernelspec": {
   "display_name": "tvdi",
   "language": "python",
   "name": "python3"
  },
  "language_info": {
   "codemirror_mode": {
    "name": "ipython",
    "version": 3
   },
   "file_extension": ".py",
   "mimetype": "text/x-python",
   "name": "python",
   "nbconvert_exporter": "python",
   "pygments_lexer": "ipython3",
   "version": "3.11.10"
  }
 },
 "nbformat": 4,
 "nbformat_minor": 2
}
